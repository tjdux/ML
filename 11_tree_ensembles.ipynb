{
  "nbformat": 4,
  "nbformat_minor": 0,
  "metadata": {
    "colab": {
      "provenance": [],
      "authorship_tag": "ABX9TyO4I76KCg4HI3Vpx3nKChVD",
      "include_colab_link": true
    },
    "kernelspec": {
      "name": "python3",
      "display_name": "Python 3"
    },
    "language_info": {
      "name": "python"
    }
  },
  "cells": [
    {
      "cell_type": "markdown",
      "metadata": {
        "id": "view-in-github",
        "colab_type": "text"
      },
      "source": [
        "<a href=\"https://colab.research.google.com/github/tjdux/ML/blob/main/11_tree_ensembles.ipynb\" target=\"_parent\"><img src=\"https://colab.research.google.com/assets/colab-badge.svg\" alt=\"Open In Colab\"/></a>"
      ]
    },
    {
      "cell_type": "markdown",
      "source": [
        "## 정형 데이터 & 비정형 데이터\n",
        "- 정형 데이터 (structured data)\n",
        "  - 구조를 이루는 데이터\n",
        "  - CSV나 데이터베이스, 혹은 엑셀에 저장하기 쉬움\n",
        "- 비정형 데이터 (unstructured data)\n",
        "  - 정형 데이터의 반대\n",
        "  - 데이터베이스나 엑셀로 표현하기 어려운 데이터\n",
        "  - e.g. 텍스트 데이터, 사진, 디지털 음악, ...\n",
        "- 앙상블 학습 (ensemble learning)\n",
        "  - 정형 데이터를 다루는 데 가장 뛰어난 성과를 내는 알고리즘\n",
        "  - 대부분 결정 트리를 기반으로 만들어져 있음\n",
        "- 신경망 알고리즘\n",
        "  - 비정형 데이터에 사용\n",
        "  - 비정형 데이터는 규칙성을 찾기 어려워 전통적인 머신러닝 방법으로는 모델을 만들기 까다로움"
      ],
      "metadata": {
        "id": "z5MbSPFxo6A5"
      }
    },
    {
      "cell_type": "markdown",
      "source": [
        "## 랜덤 포레스트 (Random Forest)\n",
        "- 앙상블 학습의 대표 주자 중 하나\n",
        "- 안정적인 성능으로 널리 사용\n",
        "- 결정 트리를 랜덤하게 만들어 결정 트리의 숲을 만듦 ➡️ 각 결정 트리의 예측을 사용해 최종 예측\n",
        "- 부트스트랩 샘플 사용\n",
        "  - 부트스트랩 (Bootstrap)\n",
        "    - 데이터 세트에서 중복을 허용하여 데이터를 샘플링하는 방식\n",
        "    - 랜덤 포레스트는 각 트리를 훈련하기 위해 우리가 입력한 훈련 데이터에서 랜덤하게 샘플을 추출하여 훈련 데이터를 만듦\n",
        "    - 이때 한 샘플이 중복되어 추출될 수 있음\n",
        "    - 기본적으로 부트스트랩 샘플은 훈련 세트의 크기와 같게 만듦\n",
        "- 각 노드를 분할할 때 전체 특성 중에서 일부 특성을 무작위로 고른 다음 이 중에서 최선의 분할을 찾음\n",
        "  - 분류 모델인 RandomForestClassifier: 기본적으로 전체 특성 개수의 제곱근만큼의 특성을 선택\n",
        "  - 회귀 모델인 RandomForestRegressor: 전체 특성을 사용\n",
        "- 기본적으로 100개의 결정 트리를 훈련\n",
        "- 분류일 때는 각 트리의 클래스별 확률을 평균하여 가장 높은 확률을 가진 클래스가 예측 클래스\n",
        "- 회귀일 때는 각 트리의 예측을 평균\n",
        "- ➕ 훈련 세트에 과대적합되는 것을 막아주고 검증 세트와 테스트 세트에서 안정적인 성능\n",
        "- 종종 기본 매개변수 설정만으로도 아주 좋은 결과\n",
        "- 결정 트리가 지원하는 중요한 매개변수를 모두 제공"
      ],
      "metadata": {
        "id": "La0KHovrpfQf"
      }
    },
    {
      "cell_type": "code",
      "source": [
        "import numpy as np\n",
        "import pandas as pd\n",
        "from sklearn.model_selection import train_test_split\n",
        "\n",
        "# 데이터 준비\n",
        "wine = pd.read_csv('https://bit.ly/wine_csv_data')\n",
        "data = wine[['alcohol', 'sugar', 'pH']].to_numpy()\n",
        "target = wine['class'].to_numpy()\n",
        "\n",
        "train_input, test_input, train_target, test_target = train_test_split(data, target, test_size=0.2, random_state=42)"
      ],
      "metadata": {
        "id": "Urz2WwvPrWjV"
      },
      "execution_count": 1,
      "outputs": []
    },
    {
      "cell_type": "markdown",
      "source": [
        "- RandomForestClassifier는 기본적으로 100개의 결정 트리를 사용하므로 n_jobs=-1 설정이 바람직\n",
        "- cross_validate() 함수의 n_jobs 매개변수도 -1로 지정하여 최대한 병렬적으로 교차 검증 수행\n",
        "- 매개변수 return_train_score = True: 검증 점수 뿐만 아니라 훈련 세트에 대한 점수도 같이 반환 ➡️ 과대적합을 파악하는데 용이"
      ],
      "metadata": {
        "id": "Kqk4iGc-r-9m"
      }
    },
    {
      "cell_type": "code",
      "source": [
        "from sklearn.model_selection import cross_validate\n",
        "from sklearn.ensemble import RandomForestClassifier\n",
        "\n",
        "rf = RandomForestClassifier(n_jobs=-1, random_state=42)\n",
        "\n",
        "# 교차 검증 수행\n",
        "scores = cross_validate(rf, train_input, train_target, return_train_score=True, n_jobs=-1)\n",
        "print(f\"훈련 세트 점수: {np.mean(scores['train_score'])}\")\n",
        "print(f\"검증 세트 점수: {np.mean(scores['test_score'])}\")"
      ],
      "metadata": {
        "colab": {
          "base_uri": "https://localhost:8080/"
        },
        "id": "Jseh3vnFsYc5",
        "outputId": "47926d67-5bad-4555-a575-868d2cd47729"
      },
      "execution_count": 2,
      "outputs": [
        {
          "output_type": "stream",
          "name": "stdout",
          "text": [
            "훈련 세트 점수: 0.9973541965122431\n",
            "검증 세트 점수: 0.8905151032797809\n"
          ]
        }
      ]
    },
    {
      "cell_type": "code",
      "source": [
        "# 특성 중요도\n",
        "# 랜덤 포레스트의 특성 중요도: 각 결정 트리의 특성 중요도를 취합\n",
        "rf.fit(train_input, train_target)\n",
        "rf.feature_importances_"
      ],
      "metadata": {
        "colab": {
          "base_uri": "https://localhost:8080/"
        },
        "id": "IOn6DuoztBX_",
        "outputId": "48012986-47c7-41d3-f904-d2d031f2c5f3"
      },
      "execution_count": 3,
      "outputs": [
        {
          "output_type": "execute_result",
          "data": {
            "text/plain": [
              "array([0.23167441, 0.50039841, 0.26792718])"
            ]
          },
          "metadata": {},
          "execution_count": 3
        }
      ]
    },
    {
      "cell_type": "markdown",
      "source": [
        "- 랜덤 포레스트는 특성의 일부를 랜덤하게 선택하여 결정 트리를 훈련\n",
        "- ➡️ 하나의 특성에 과도하게 집중하지 않고 좀 더 많은 특성이 훈련에 기여할 기회를 얻음\n",
        "- 과대적합을 줄이고 일반화 성능을 높이는 데 도움"
      ],
      "metadata": {
        "id": "B4wwLsE4tMYW"
      }
    },
    {
      "cell_type": "markdown",
      "source": [
        "- 자체적으로 모델을 평가하는 점수를 얻을 수 있음\n",
        "  - OOB (out of bag) 샘플: 부트스트랩 샘플에 포함되지 않고 남는 샘플\n",
        "  - OOB 샘플을 사용하여 부트스트랩 샘플로 훈련한 결정 트리를 평가 가능\n",
        "  - 매개변수 oob_score=True: 각 결정 트리의 OOB 점수의 평균을 출력\n",
        "  - OOB 점수를 사용하면 교차 검증을 대신할 수 있어서 결과적으로 훈련 세트에 더 많은 샘플을 사용 가능"
      ],
      "metadata": {
        "id": "FOfEaArstZzV"
      }
    },
    {
      "cell_type": "code",
      "source": [
        "# oob score\n",
        "rf = RandomForestClassifier(oob_score=True, n_jobs=-1, random_state=42)\n",
        "rf.fit(train_input, train_target)\n",
        "rf.oob_score_"
      ],
      "metadata": {
        "colab": {
          "base_uri": "https://localhost:8080/"
        },
        "id": "uPut-Z0ytt4V",
        "outputId": "1b70ac1c-ace6-4699-f551-da390ba7e928"
      },
      "execution_count": 4,
      "outputs": [
        {
          "output_type": "execute_result",
          "data": {
            "text/plain": [
              "0.8934000384837406"
            ]
          },
          "metadata": {},
          "execution_count": 4
        }
      ]
    },
    {
      "cell_type": "markdown",
      "source": [
        "## 엑스트라 트리 (Extra Tree)\n",
        "- 랜덤 포레스트와 매우 비슷하게 동작\n",
        "- 기본적으로 100개의 결정 트리를 훈련\n",
        "- 결정 트리가 제공하는 대부분의 매개변수를 지원\n",
        "- 랜덤 포레스트와의 차이점: 부트스트랩 샘플을 사용하지 않음\n",
        "  - 결정 트리를 만들 때 전체 훈련 세트를 사용\n",
        "  - 대신 노드를 분할할 때 가장 좋은 분할을 찾는 것이 아닌 무작위로 분할\n",
        "  - splitter 매개변수가 'random'인 결정 트리를 사용\n",
        "- ➖ 낮아진 성능\n",
        "- ➕ 많은 트리를 앙상블 하기 때문에 과대적합을 막고 검증 세트의 점수를 높이는 효과\n",
        "- ➕ 랜덤하게 노드를 분할하기 때문에 빠른 계산 속도\n",
        "- 회귀 버전: ExtraTreesRegressor"
      ],
      "metadata": {
        "id": "GwzbskLyuCXL"
      }
    },
    {
      "cell_type": "code",
      "source": [
        "from sklearn.ensemble import ExtraTreesClassifier\n",
        "\n",
        "et = ExtraTreesClassifier(n_jobs=-1, random_state=42)\n",
        "scores = cross_validate(et, train_input, train_target, return_train_score=True, n_jobs=-1)\n",
        "print(f\"훈련 세트 점수: {np.mean(scores['train_score'])}\")\n",
        "print(f\"검증 세트 점수: {np.mean(scores['test_score'])}\")"
      ],
      "metadata": {
        "colab": {
          "base_uri": "https://localhost:8080/"
        },
        "id": "aNgWhhLOuqh_",
        "outputId": "903ef86d-3c0d-441f-9f1a-327c83f04684"
      },
      "execution_count": 5,
      "outputs": [
        {
          "output_type": "stream",
          "name": "stdout",
          "text": [
            "훈련 세트 점수: 0.9974503966084433\n",
            "검증 세트 점수: 0.8887848893166506\n"
          ]
        }
      ]
    },
    {
      "cell_type": "code",
      "source": [
        "# 특성 중요도\n",
        "et.fit(train_input, train_target)\n",
        "et.feature_importances_"
      ],
      "metadata": {
        "colab": {
          "base_uri": "https://localhost:8080/"
        },
        "id": "86z5wH6gvKKg",
        "outputId": "e553f0a1-ab01-470e-8a96-55818e326532"
      },
      "execution_count": 6,
      "outputs": [
        {
          "output_type": "execute_result",
          "data": {
            "text/plain": [
              "array([0.20183568, 0.52242907, 0.27573525])"
            ]
          },
          "metadata": {},
          "execution_count": 6
        }
      ]
    },
    {
      "cell_type": "markdown",
      "source": [
        "## 그레이디언트 부스팅 (Gradient Boosting)\n",
        "- 깊이가 얕은 결정 트리를 사용하여 이전 트리의 오차를 보완하는 방식으로 앙상블\n",
        "- 기본적으로 깊이가 3인 100개의 결정 트리 사용\n",
        "- ➕ 과대적합에 강하고 일반적으로 높은 일반화 성능 기대\n",
        "- 경사 하강법을 사용하여 트리를 앙상블에 추가\n",
        "  - 분류: 로지스틱 손실 함수\n",
        "  - 회귀: 평균 제곱 오차 함수\n",
        "- 손실 함수를 조금씩 최소화하는 방향으로 이동 ⬅️ 깊이가 얕은 트리를 사용하는 이유\n",
        "- 학습률 매개변수로 속도(복잡도) 조절\n",
        "  - 학습률 매개변수가 크면 복잡하고 훈련 세트에 과대적합된 모델"
      ],
      "metadata": {
        "id": "08Ok37oavaeC"
      }
    },
    {
      "cell_type": "code",
      "source": [
        "from sklearn.ensemble import GradientBoostingClassifier\n",
        "\n",
        "gb = GradientBoostingClassifier(random_state=42)\n",
        "scores = cross_validate(gb, train_input, train_target, return_train_score=True, n_jobs=-1)\n",
        "print(f\"훈련 세트 점수: {np.mean(scores['train_score'])}\")\n",
        "print(f\"검증 세트 점수: {np.mean(scores['test_score'])}\")"
      ],
      "metadata": {
        "colab": {
          "base_uri": "https://localhost:8080/"
        },
        "id": "Me6DPuKXxlVu",
        "outputId": "5003f99d-7125-4494-e938-8ef7fb29ed27"
      },
      "execution_count": 7,
      "outputs": [
        {
          "output_type": "stream",
          "name": "stdout",
          "text": [
            "훈련 세트 점수: 0.8881086892152563\n",
            "검증 세트 점수: 0.8720430147331015\n"
          ]
        }
      ]
    },
    {
      "cell_type": "markdown",
      "source": [
        "- 거의 과대적합이 되지 않음\n",
        "- 결정 트리의 개수를 늘려도 과대적합에 매우 강함\n",
        "- 학습률을 증가시키고 트리의 개수를 늘리면 조금 더 성능이 향상될 수 있음"
      ],
      "metadata": {
        "id": "B7lwp-kOyBZ2"
      }
    },
    {
      "cell_type": "code",
      "source": [
        "# 트리의 개수 500개, 학습률 0.1에서 0.2로 변경\n",
        "\n",
        "gb = GradientBoostingClassifier(n_estimators=500, learning_rate=0.2, random_state=42)\n",
        "scores = cross_validate(gb, train_input, train_target, return_train_score=True, n_jobs=-1)\n",
        "print(f\"훈련 세트 점수: {np.mean(scores['train_score'])}\")\n",
        "print(f\"검증 세트 점수: {np.mean(scores['test_score'])}\")"
      ],
      "metadata": {
        "colab": {
          "base_uri": "https://localhost:8080/"
        },
        "id": "t9SDi4GFyJhK",
        "outputId": "326dba01-f4e9-4b54-c4fc-4675e9a25a09"
      },
      "execution_count": 8,
      "outputs": [
        {
          "output_type": "stream",
          "name": "stdout",
          "text": [
            "훈련 세트 점수: 0.9464595437171814\n",
            "검증 세트 점수: 0.8780082549788999\n"
          ]
        }
      ]
    },
    {
      "cell_type": "code",
      "source": [
        "# 특성 중요도\n",
        "gb.fit(train_input, train_target)\n",
        "gb.feature_importances_"
      ],
      "metadata": {
        "colab": {
          "base_uri": "https://localhost:8080/"
        },
        "id": "Sj8xjBNNyYR6",
        "outputId": "5b546316-fe41-4668-c962-a086a4ab8f80"
      },
      "execution_count": 9,
      "outputs": [
        {
          "output_type": "execute_result",
          "data": {
            "text/plain": [
              "array([0.15887763, 0.6799705 , 0.16115187])"
            ]
          },
          "metadata": {},
          "execution_count": 9
        }
      ]
    },
    {
      "cell_type": "markdown",
      "source": [
        "- ➕ 일반적으로 랜덤 포레스트보다 조금 더 높은 성능\n",
        "- ➖ 순서대로 트리를 추가하기 때문에 느린 훈련 속도\n",
        "  - ➡️ n_jobs 매개변수가 없음\n",
        "- 그레이디언트 부스팅의 회귀 버전: GrandientBoostingRegressor"
      ],
      "metadata": {
        "id": "jMyb4gWoyjpn"
      }
    },
    {
      "cell_type": "markdown",
      "source": [
        "## 히스토그램 기반 그레디언트 부스팅 (Histogram-based Gradient Boosting)\n",
        "- 정형 데이터를 다루는 머신러닝 알고리즘 중 가장 인기가 높은 알고리즘\n",
        "- 입력 특성을 256개의 구간으로 나눔\n",
        "  - 노드를 분할할 때 최적의 분할을 매우 빠르게 찾을 수 있음\n",
        "  - 256개의 구간 중 하나를 떼어 놓고 누락된 값을 위해 사용 ➡️ 누락된 특성이 있더라도 전처리 필요 없음\n",
        "- 기본 매개변수에서 안정적인 성능을 얻을 수 있음\n",
        "- max_iter 매개변수: 트리의 개수 지정\n",
        "- 과대적합을 잘 억제하면서 그레디언트 부스팅보다 조금 더 높은 성능을 제공"
      ],
      "metadata": {
        "id": "6CJrxvK1yv6h"
      }
    },
    {
      "cell_type": "code",
      "source": [
        "from sklearn.ensemble import HistGradientBoostingClassifier\n",
        "\n",
        "hgb = HistGradientBoostingClassifier(random_state=42)\n",
        "scores = cross_validate(hgb, train_input, train_target, return_train_score=True, n_jobs=-1)\n",
        "print(f\"훈련 세트 점수: {np.mean(scores['train_score'])}\")\n",
        "print(f\"검증 세트 점수: {np.mean(scores['test_score'])}\")"
      ],
      "metadata": {
        "colab": {
          "base_uri": "https://localhost:8080/"
        },
        "id": "E07s1eHezNtx",
        "outputId": "8d464b9b-e429-427b-e87e-f57af9b8db79"
      },
      "execution_count": 10,
      "outputs": [
        {
          "output_type": "stream",
          "name": "stdout",
          "text": [
            "훈련 세트 점수: 0.9321723946453317\n",
            "검증 세트 점수: 0.8801241948619236\n"
          ]
        }
      ]
    },
    {
      "cell_type": "markdown",
      "source": [
        "- 특성 중요도 계산\n",
        "  - permutation_importance() 함수: 특성을 하나씩 랜덤하게 섞어서 모델의 성능이 변화하는지를 관찰하여 어떤 특성이 중요한지를 계산\n",
        "  - n_repeats 매개변수: 랜덤하게 섞을 횟수 지정"
      ],
      "metadata": {
        "id": "SrCT_Aeizd_v"
      }
    },
    {
      "cell_type": "code",
      "source": [
        "# 훈련 세트의 특성 중요도\n",
        "from sklearn.inspection import permutation_importance\n",
        "\n",
        "hgb.fit(train_input, train_target)\n",
        "result = permutation_importance(hgb, train_input, train_target, n_repeats=10, random_state=42, n_jobs=-1)\n",
        "result.importances_mean"
      ],
      "metadata": {
        "colab": {
          "base_uri": "https://localhost:8080/"
        },
        "id": "ALsFP_m7zqub",
        "outputId": "93d5b5ba-a2eb-4c12-a3e1-5e5aeeff693e"
      },
      "execution_count": 11,
      "outputs": [
        {
          "output_type": "execute_result",
          "data": {
            "text/plain": [
              "array([0.08876275, 0.23438522, 0.08027708])"
            ]
          },
          "metadata": {},
          "execution_count": 11
        }
      ]
    },
    {
      "cell_type": "code",
      "source": [
        "# 테스트 세트의 특성 중요도\n",
        "result = permutation_importance(hgb, test_input, test_target, n_repeats=10, random_state=42, n_jobs=-1)\n",
        "result.importances_mean"
      ],
      "metadata": {
        "colab": {
          "base_uri": "https://localhost:8080/"
        },
        "id": "ef3CqDqez6K-",
        "outputId": "d22795b3-ec45-4fd5-97c2-dc2fb4ebb399"
      },
      "execution_count": 12,
      "outputs": [
        {
          "output_type": "execute_result",
          "data": {
            "text/plain": [
              "array([0.05969231, 0.20238462, 0.049     ])"
            ]
          },
          "metadata": {},
          "execution_count": 12
        }
      ]
    },
    {
      "cell_type": "code",
      "source": [
        "# 최종적인 테스트 세트에서의 성능\n",
        "hgb.score(test_input, test_target)"
      ],
      "metadata": {
        "colab": {
          "base_uri": "https://localhost:8080/"
        },
        "id": "sV8-Juid0A8h",
        "outputId": "540e8476-9d92-4ca4-bae2-aa2c772caedd"
      },
      "execution_count": 13,
      "outputs": [
        {
          "output_type": "execute_result",
          "data": {
            "text/plain": [
              "0.8723076923076923"
            ]
          },
          "metadata": {},
          "execution_count": 13
        }
      ]
    },
    {
      "cell_type": "markdown",
      "source": [
        "### XGBoost\n",
        "- tree_method='hist': 히스토그램 기반 그레이디언트 부스팅"
      ],
      "metadata": {
        "id": "H7yWPq670JRb"
      }
    },
    {
      "cell_type": "code",
      "source": [
        "from xgboost import XGBClassifier\n",
        "\n",
        "xgb = XGBClassifier(tree_method=\"hist\", random_state=42)\n",
        "scores = cross_validate(xgb, train_input, train_target, return_train_score=True)\n",
        "print(f\"훈련 세트 점수: {np.mean(scores['train_score'])}\")\n",
        "print(f\"검증 세트 점수: {np.mean(scores['test_score'])}\")"
      ],
      "metadata": {
        "colab": {
          "base_uri": "https://localhost:8080/"
        },
        "id": "EHekrEv20Sc9",
        "outputId": "1d334ffd-5ceb-44e0-862f-25d15a7d4a02"
      },
      "execution_count": 14,
      "outputs": [
        {
          "output_type": "stream",
          "name": "stdout",
          "text": [
            "훈련 세트 점수: 0.9558403027491312\n",
            "검증 세트 점수: 0.8782000074035686\n"
          ]
        }
      ]
    },
    {
      "cell_type": "markdown",
      "source": [
        "### LightGBM"
      ],
      "metadata": {
        "id": "K_MhbxRn0nRI"
      }
    },
    {
      "cell_type": "code",
      "source": [
        "from lightgbm import LGBMClassifier\n",
        "\n",
        "lgb = LGBMClassifier(random_state=42)\n",
        "scores = cross_validate(lgb, train_input, train_target, return_train_score=True, n_jobs=-1)\n",
        "print(f\"훈련 세트 점수: {np.mean(scores['train_score'])}\")\n",
        "print(f\"검증 세트 점수: {np.mean(scores['test_score'])}\")"
      ],
      "metadata": {
        "colab": {
          "base_uri": "https://localhost:8080/"
        },
        "id": "gXgFfFyK0p3i",
        "outputId": "db3a2b1e-234c-4234-9678-dc9ea2bc26c0"
      },
      "execution_count": 16,
      "outputs": [
        {
          "output_type": "stream",
          "name": "stdout",
          "text": [
            "훈련 세트 점수: 0.935828414851749\n",
            "검증 세트 점수: 0.8801251203079884\n"
          ]
        }
      ]
    }
  ]
}