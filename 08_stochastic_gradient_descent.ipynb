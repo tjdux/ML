{
  "nbformat": 4,
  "nbformat_minor": 0,
  "metadata": {
    "colab": {
      "provenance": [],
      "authorship_tag": "ABX9TyNfZ+oSi4bg5xu7EPadKPZ+",
      "include_colab_link": true
    },
    "kernelspec": {
      "name": "python3",
      "display_name": "Python 3"
    },
    "language_info": {
      "name": "python"
    }
  },
  "cells": [
    {
      "cell_type": "markdown",
      "metadata": {
        "id": "view-in-github",
        "colab_type": "text"
      },
      "source": [
        "<a href=\"https://colab.research.google.com/github/tjdux/ML/blob/main/08_stochastic_gradient_descent.ipynb\" target=\"_parent\"><img src=\"https://colab.research.google.com/assets/colab-badge.svg\" alt=\"Open In Colab\"/></a>"
      ]
    },
    {
      "cell_type": "markdown",
      "source": [
        "## 점진적인 학습\n",
        "- 점진적 학습\n",
        "  - 훈련 데이터가 한 번에 준비되는 것이 아닌 조금씩 전달될 때\n",
        "  - 앞서 훈련한 모델을 버리지 않고 새로운 데이터에 대해서만 조금씩 더 훈련\n",
        "  - 확률적 경사 하강법 (SDG; stochastic gradient descent)가 대표적인 점진적 학습 알고리즘"
      ],
      "metadata": {
        "id": "yuvAPeeW08Ib"
      }
    },
    {
      "cell_type": "markdown",
      "source": [
        "### 확률적 경사 하강법\n",
        "- 경사 하강법\n",
        "  - 경사를 따라 내려가는 방법\n",
        "  - 원하는 지점까지 내려갈 수 있는 가장 빠른 길은 가장 가파른 길\n",
        "  - 가장 가파른 경사를 따라 원하는 지점에 도달하는 것이 목표\n",
        "- 확률적 경사 하강법\n",
        "  - 가장 가파른 길을 찾아 내려오지만 조금씩 내려오는 것이 중요\n",
        "  - 훈련 세트에서 랜덤하게 하나의 샘플을 선택하여 가파른 경사를 조금 내려감\n",
        "  - 그 다음 훈련 세트에서 랜덤하게 또 다른 샘플을 하나 선택하여 경사를 조금 내려감\n",
        "  - 전체 샘플을 모두 사용할 때까지 계속\n",
        "- 에포크 (epoch)\n",
        "  - 훈련 세트를 한 번 모두 사용하는 과정\n",
        "  - 전체 샘플을 모두 사용해도 원하는 지점에 도달하지 못하면 훈련 세트에 모든 샘플을 다시 채워 넣음\n",
        "  - 다시 랜덤하게 하나의 샘플을 선택해 이어서 경사를 내려감\n",
        "  - 만족할만한 위치에 도달할 때까지 계속 내려감\n",
        "  - 일반적으로 경사 하강법은 수십, 수백 번 이상의 에포크 수행\n",
        "- 미니배치 경사 하강법 (minibatch gradient descent): 여러 개의 샘플을 사용해 경사 하강법 수행\n",
        "- 배치 경사 하강법 (batch gradient descent)\n",
        "  - 한 번 경사로를 따라 이동하기 위해 전체 샘플을 사용\n",
        "  - ➕ 가장 안정적\n",
        "  - ➖ 그만큼 컴퓨터 자원을 많이 사용\n",
        "- 신경망 알고리즘: 확률적 경사 하강법이나 미니배치 경사 하강법 사용"
      ],
      "metadata": {
        "id": "Yfq0kfp31VJi"
      }
    },
    {
      "cell_type": "markdown",
      "source": [
        "### 손실 함수 (loss function)\n",
        "- 어떤 문제에서 머신러닝 알고리즘이 얼마나 엉터리인지를 측정하는 기준\n",
        "- 값이 작을수록 바람직\n",
        "- 손실 함수와 비용 함수\n",
        "  - 손실 함수: 샘플 하나에 대한 손실을 정의\n",
        "  - 비용 함수: 모든 샘플의 손실 함수의 합\n",
        "- 미분 가능해야 함 (연속적이어야 함)\n",
        "- 확률은 연속적!"
      ],
      "metadata": {
        "id": "AhZA70Sd2yw7"
      }
    },
    {
      "cell_type": "markdown",
      "source": [
        "### 로지스틱 손실 함수\n",
        "- 예측 확률을 이용\n",
        "- 예측 확률에 로그 함수를 적용\n",
        "  - 예측 확률의 범위는 0 ~ 1로 로그 함수는 이 사이에서 음수가 되므로 최종 손실 값은 양수\n",
        "  - 0에 가까울수록 로그 함수는 아주 큰 음수가 되기 때문에 손실을 아주 크게 만들어 모델에 큰 영향을 끼칠 수 있음\n",
        "- 로지스틱 손실 함수 (logistic loss function)\n",
        "  - 양성 클래스 (타깃 = 1)일 때 손실은 -log(예측확률)로 계산 ➡️ 확률이 1에서 멀어져 0에 가까워질수록 손실은 아주 큰 양수\n",
        "  - 음성 클래스 (타깃 = 0)일 때 손실은 -log(1-예측확률)로 계산 ➡️ 예측 확률이 0에서 멀어져 1에 가까워질수록 손실은 아주 큰 양수\n",
        "  - 이진 분류에 사용\n",
        "- 크로스엔트로피 손실 함수 (cross-entropy function)\n",
        "  - 다중 분류에 사용\n",
        "- 평균 제곱 오차 (mean squared error)\n",
        "  - 타깃에서 예측을 뺀 값을 제곱한 다음 모든 샘플에 평균한 값\n",
        "  - 회귀에서 사용"
      ],
      "metadata": {
        "id": "B3O96exy3Jt1"
      }
    },
    {
      "cell_type": "markdown",
      "source": [
        "## SDGClassifier"
      ],
      "metadata": {
        "id": "yNN9zp9n4IyD"
      }
    },
    {
      "cell_type": "code",
      "source": [
        "import pandas as pd\n",
        "\n",
        "fish = pd.read_csv('https://bit.ly/fish_csv_data')"
      ],
      "metadata": {
        "id": "g_VQAz3C4MpR"
      },
      "execution_count": 2,
      "outputs": []
    },
    {
      "cell_type": "code",
      "source": [
        "cols = fish.columns\n",
        "cols"
      ],
      "metadata": {
        "colab": {
          "base_uri": "https://localhost:8080/"
        },
        "id": "exEu2BVr4VFU",
        "outputId": "ad3c872b-e925-4d27-f57a-6a744a14797f"
      },
      "execution_count": 4,
      "outputs": [
        {
          "output_type": "execute_result",
          "data": {
            "text/plain": [
              "Index(['Species', 'Weight', 'Length', 'Diagonal', 'Height', 'Width'], dtype='object')"
            ]
          },
          "metadata": {},
          "execution_count": 4
        }
      ]
    },
    {
      "cell_type": "code",
      "source": [
        "fish_input = fish[cols[1:]].to_numpy()\n",
        "fish_target = fish[cols[0]].to_numpy()"
      ],
      "metadata": {
        "id": "RAuAA1di4WxM"
      },
      "execution_count": 5,
      "outputs": []
    },
    {
      "cell_type": "code",
      "source": [
        "from sklearn.model_selection import train_test_split\n",
        "\n",
        "train_input, test_input, train_target, test_target = train_test_split(fish_input, fish_target, random_state=42)"
      ],
      "metadata": {
        "id": "rx3BA-gB4mlT"
      },
      "execution_count": 7,
      "outputs": []
    },
    {
      "cell_type": "code",
      "source": [
        "# ⚠️ 훈련 세트에서 학습한 통계 값으로 테스트 세트도 변환!\n",
        "from sklearn.preprocessing import StandardScaler\n",
        "\n",
        "ss = StandardScaler()\n",
        "ss.fit(train_input)\n",
        "train_scaled = ss.transform(train_input)\n",
        "test_scaled = ss.transform(test_input)"
      ],
      "metadata": {
        "id": "OJoaYKK240v9"
      },
      "execution_count": 8,
      "outputs": []
    },
    {
      "cell_type": "code",
      "source": [
        "# loss: 손실 함수의 종류 지정\n",
        "# OvR: 다중 분류에서 로지스틱 손실 함수를 사용하면 클래스마다 이진 분류 모델을 만듦\n",
        "# max_iter: 수행할 에포크 횟수 지정\n",
        "from sklearn.linear_model import SGDClassifier\n",
        "\n",
        "sc = SGDClassifier(loss='log_loss', max_iter=10, random_state=42)\n",
        "sc.fit(train_scaled, train_target)\n",
        "print(f\"훈련 세트 점수: {sc.score(train_scaled, train_target)}\")\n",
        "print(f\"테스트 세트 점수: {sc.score(test_scaled, test_target)}\")"
      ],
      "metadata": {
        "colab": {
          "base_uri": "https://localhost:8080/"
        },
        "id": "xVE1snGq5Uyy",
        "outputId": "7f192ef9-7db7-4016-ec86-ac8ca6dcc213"
      },
      "execution_count": 12,
      "outputs": [
        {
          "output_type": "stream",
          "name": "stdout",
          "text": [
            "훈련 세트 점수: 0.773109243697479\n",
            "테스트 세트 점수: 0.775\n"
          ]
        },
        {
          "output_type": "stream",
          "name": "stderr",
          "text": [
            "/usr/local/lib/python3.11/dist-packages/sklearn/linear_model/_stochastic_gradient.py:738: ConvergenceWarning: Maximum number of iteration reached before convergence. Consider increasing max_iter to improve the fit.\n",
            "  warnings.warn(\n"
          ]
        }
      ]
    },
    {
      "cell_type": "code",
      "source": [
        "# partial_fit(): 점진적 학습, 호출할 때마다 1 에포크씩 이어서 훈련\n",
        "sc.partial_fit(train_scaled, train_target)\n",
        "print(f\"훈련 세트 점수: {sc.score(train_scaled, train_target)}\")\n",
        "print(f\"테스트 세트 점수: {sc.score(test_scaled, test_target)}\")"
      ],
      "metadata": {
        "colab": {
          "base_uri": "https://localhost:8080/"
        },
        "id": "DLo5cACJ6Fc9",
        "outputId": "6dc64005-fb33-4e96-da78-3beefd86f3ef"
      },
      "execution_count": 13,
      "outputs": [
        {
          "output_type": "stream",
          "name": "stdout",
          "text": [
            "훈련 세트 점수: 0.7983193277310925\n",
            "테스트 세트 점수: 0.775\n"
          ]
        }
      ]
    },
    {
      "cell_type": "markdown",
      "source": [
        "## 에포크와 과대/과소적합\n",
        "- 에포크 횟수가 적으면\n",
        "  - 모델이 훈련 세트를 덜 학습\n",
        "  - 훈련 세트와 테스트 세트에 잘 맞지 않는 과소적합된 모델일 가능성 높음\n",
        "- 에포크 횟수가 많으면\n",
        "  - 훈련 세트를 완전히 학습\n",
        "  - 모델이 훈련 세트에 너무 잘 맞아 테스트 세트에는 오히려 점수가 낮은 과대적합된 모델일 가능성 높음\n",
        "- 조기 종점 (early stopping)\n",
        "  - 과대적합이 시작하기 전에 훈련을 멈추는 것\n",
        "  - 훈련 세트 점수는 에포크가 진행될수록 꾸준히 증가하지만 테스트 세트 점수는 어느 순간 감소하기 시작\n",
        "  - 훈련 세트 점수와 테스트 세트 점수와의 차이가 벌어지기 시작하는 점이 모델이 과대적합되기 시작하는 곳"
      ],
      "metadata": {
        "id": "yIiimoGP6jNq"
      }
    },
    {
      "cell_type": "code",
      "source": [
        "# partial_fit() 메서드만 사용하려면 훈련 세트에 있는 전체 클래스의 레이블을 전달\n",
        "import numpy as np\n",
        "\n",
        "sc = SGDClassifier(loss='log_loss', random_state=42)\n",
        "train_score = []\n",
        "test_score = []\n",
        "classes = np.unique(train_target)"
      ],
      "metadata": {
        "id": "c8gWHA_B7Nrj"
      },
      "execution_count": 14,
      "outputs": []
    },
    {
      "cell_type": "code",
      "source": [
        "# 300번의 에포크\n",
        "for _ in range(0, 300):\n",
        "  sc.partial_fit(train_scaled, train_target, classes=classes)\n",
        "  train_score.append(sc.score(train_scaled, train_target))\n",
        "  test_score.append(sc.score(test_scaled, test_target))"
      ],
      "metadata": {
        "id": "H2NP3MCw7maQ"
      },
      "execution_count": 15,
      "outputs": []
    },
    {
      "cell_type": "code",
      "source": [
        "import matplotlib.pyplot as plt\n",
        "\n",
        "plt.plot(train_score)\n",
        "plt.plot(test_score)\n",
        "plt.xlabel('epoch')\n",
        "plt.ylabel('accuracy')\n",
        "plt.show()"
      ],
      "metadata": {
        "colab": {
          "base_uri": "https://localhost:8080/",
          "height": 449
        },
        "id": "Pn212xPF73-8",
        "outputId": "3934a31a-b618-446f-de89-5a67a6f89ade"
      },
      "execution_count": 16,
      "outputs": [
        {
          "output_type": "display_data",
          "data": {
            "text/plain": [
              "<Figure size 640x480 with 1 Axes>"
            ],
            "image/png": "[encoded data removed]"
          },
          "metadata": {}
        }
      ]
    },
    {
      "cell_type": "markdown",
      "source": [
        "- 에포크 100부터 과대적합되기 시작"
      ],
      "metadata": {
        "id": "xDkUiGzu8HY9"
      }
    },
    {
      "cell_type": "code",
      "source": [
        "# max_iter=100: 에포크 100\n",
        "\n",
        "sc = SGDClassifier(loss=\"log_loss\", max_iter=100, tol=None, random_state=42)\n",
        "sc.fit(train_scaled, train_target)\n",
        "print(f\"훈련 세트 점수: {sc.score(train_scaled, train_target)}\")\n",
        "print(f\"테스트 세트 점수: {sc.score(test_scaled, test_target)}\")"
      ],
      "metadata": {
        "colab": {
          "base_uri": "https://localhost:8080/"
        },
        "id": "nWlEPJgw8L_d",
        "outputId": "9aac5453-5194-406f-ad59-1cd236575b65"
      },
      "execution_count": 18,
      "outputs": [
        {
          "output_type": "stream",
          "name": "stdout",
          "text": [
            "훈련 세트 점수: 0.957983193277311\n",
            "테스트 세트 점수: 0.925\n"
          ]
        }
      ]
    },
    {
      "cell_type": "markdown",
      "source": [
        "- loss 매개변수의 기본값은 'hinge'\n",
        "- 힌지 손실 (hinge loss): 서포트 벡터 머신 (SVM) 알고리즘을 위한 손실 함수"
      ],
      "metadata": {
        "id": "Jvtv-8vp8wcO"
      }
    },
    {
      "cell_type": "code",
      "source": [
        "# 힌지 손실 사용\n",
        "sc = SGDClassifier(loss='hinge', max_iter=100, tol=None, random_state=42)\n",
        "sc.fit(train_scaled, train_target)\n",
        "print(f\"훈련 세트 점수: {sc.score(train_scaled, train_target)}\")\n",
        "print(f\"테스트 세트 점수: {sc.score(test_scaled, test_target)}\")"
      ],
      "metadata": {
        "colab": {
          "base_uri": "https://localhost:8080/"
        },
        "id": "47ExbUut87Ms",
        "outputId": "042d1e39-c770-4722-ebbc-d439fd8e5c14"
      },
      "execution_count": 19,
      "outputs": [
        {
          "output_type": "stream",
          "name": "stdout",
          "text": [
            "훈련 세트 점수: 0.9495798319327731\n",
            "테스트 세트 점수: 0.925\n"
          ]
        }
      ]
    }
  ]
}